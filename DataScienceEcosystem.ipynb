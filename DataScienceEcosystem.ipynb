{
 "cells": [
  {
   "cell_type": "markdown",
   "id": "d00bdce6-c38d-4d87-b54e-d092271a5584",
   "metadata": {},
   "source": [
    "# Data Science Tools and Ecosystem"
   ]
  },
  {
   "cell_type": "markdown",
   "id": "61d4ca3f-1997-4b3a-8f56-6bbefd28cfe8",
   "metadata": {
    "tags": []
   },
   "source": [
    "In this notebook, Data Science Tools and Ecosystem are summarized."
   ]
  },
  {
   "cell_type": "markdown",
   "id": "4777dda4-8dfd-4591-a8e8-cb85e054b8d1",
   "metadata": {
    "tags": []
   },
   "source": [
    "Some of the popular languages that Data Scientists use are:\n",
    "1. R\n",
    "2. Python\n",
    "3. Scala\n",
    "4. SQL\n",
    "5. C++"
   ]
  },
  {
   "cell_type": "markdown",
   "id": "20703b24-59d4-4c2d-911f-734d66ffbb06",
   "metadata": {},
   "source": [
    "Some of the commonly used libraries used by Data Scientists include:\n",
    "1. Pandas\n",
    "2. Tensorflow\n",
    "3. ggplot\n",
    "4. sklearn"
   ]
  },
  {
   "cell_type": "markdown",
   "id": "1337c1ed-d339-4e42-8cef-f79762665b87",
   "metadata": {},
   "source": [
    "|Data Science tools|\n",
    "|:----:|\n",
    "|Jupyter notebook|\n",
    "|R Studio|\n",
    "|Apache Spark|"
   ]
  },
  {
   "cell_type": "markdown",
   "id": "c68dcbfa-7dcf-4083-aeb4-a0568d9b1c86",
   "metadata": {},
   "source": [
    "### Below are a few examples of evaluating arithmetic expressions in Python"
   ]
  },
  {
   "cell_type": "code",
   "execution_count": 3,
   "id": "35e4d87f-15a6-4bb3-a421-d0fd2ec4d238",
   "metadata": {
    "tags": []
   },
   "outputs": [
    {
     "data": {
      "text/plain": [
       "17"
      ]
     },
     "execution_count": 3,
     "metadata": {},
     "output_type": "execute_result"
    }
   ],
   "source": [
    "# This is a simple arithmetic expression to multiply then add integers\n",
    "(3*4)+5"
   ]
  },
  {
   "cell_type": "code",
   "execution_count": 4,
   "id": "5d580adb-087b-4f5e-8db0-591aa1e063e0",
   "metadata": {
    "tags": []
   },
   "outputs": [
    {
     "data": {
      "text/plain": [
       "3.3333333333333335"
      ]
     },
     "execution_count": 4,
     "metadata": {},
     "output_type": "execute_result"
    }
   ],
   "source": [
    "# This will convert 200 minutes to hours by diving by 60\n",
    "200/60"
   ]
  },
  {
   "cell_type": "markdown",
   "id": "3be95539-d856-4ed9-b0ee-fe1b457984a6",
   "metadata": {},
   "source": [
    "**Objectives:**\n",
    "* List popular Languages for Data Science\n",
    "* List popular Data Science tools\n",
    "* Demonstrate basic code cell syntax"
   ]
  },
  {
   "cell_type": "markdown",
   "id": "dda9a499-6b8b-435a-9912-8a47ac9f6919",
   "metadata": {},
   "source": [
    "## Author\n",
    "Samuel Kekäläinen"
   ]
  },
  {
   "cell_type": "code",
   "execution_count": null,
   "id": "6bb5c1e1-3e72-4dcc-a94d-051507a8e04e",
   "metadata": {},
   "outputs": [],
   "source": []
  }
 ],
 "metadata": {
  "kernelspec": {
   "display_name": "Python",
   "language": "python",
   "name": "conda-env-python-py"
  },
  "language_info": {
   "codemirror_mode": {
    "name": "ipython",
    "version": 3
   },
   "file_extension": ".py",
   "mimetype": "text/x-python",
   "name": "python",
   "nbconvert_exporter": "python",
   "pygments_lexer": "ipython3",
   "version": "3.7.12"
  }
 },
 "nbformat": 4,
 "nbformat_minor": 5
}
